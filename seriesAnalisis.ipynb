{
 "cells": [
  {
   "cell_type": "markdown",
   "id": "60c5e580",
   "metadata": {},
   "source": [
    "# Laboratorio 1 Data Science\n",
    "- Diego Linares #221256\n",
    "- José Prince #22087"
   ]
  },
  {
   "cell_type": "code",
   "execution_count": 2,
   "id": "69a2f97b",
   "metadata": {},
   "outputs": [
    {
     "name": "stdout",
     "output_type": "stream",
     "text": [
      "Columnas Importación:\n",
      "['Fecha', 'Aceites lubricantes', 'Asfalto ', 'Bunker', 'Ceras', 'Combustible turbo jet', 'Diesel bajo azufre', 'Diesel ultra bajo azufre', 'Gas licuado de petróleo', 'Gasolina de aviación', 'Gasolina regular', 'Gasolina superior', 'Grasas lubricantes', 'Kerosina', 'Mezclas oleosas', 'Naftas', 'Petcoke', 'Petróleo crudo', 'Solventes', 'Butano', 'Diesel alto azufre', 'MTBE', 'Orimulsión', 'Petróleo reconstituido', 'Total importación']\n",
      "\n",
      "Columnas Consumo:\n",
      "['Fecha', 'Aceites lubricantes', 'Asfalto', 'Bunker', 'Ceras', 'Combustible turbo jet', 'Diesel bajo azufre', 'Diesel ultra bajo azufre', 'Gas licuado de petróleo', 'Gas natural', 'Gasolina de aviación', 'Gasolina regular', 'Gasolina superior', 'Grasas lubricantes', 'Kerosina', 'Mezclas\\noleosas', 'Naftas', 'PetCoke', 'Petróleo crudo', 'Solventes', 'Butano', 'Diesel alto azufre', 'Orimulsión', 'Total']\n"
     ]
    }
   ],
   "source": [
    "import pandas as pd\n",
    "import matplotlib.pyplot as plt\n",
    "import matplotlib.dates as mdates\n",
    "import seaborn as sns\n",
    "import numpy as np\n",
    "from statsmodels.tsa.stattools import adfuller\n",
    "archivo = \"dataset/Estadisticas_historicas_comercializacion.xlsx\"\n",
    "\n",
    "df_importacion = pd.read_excel(archivo, sheet_name=\"IMPORTACION\", skiprows=6, nrows=289 )\n",
    "df_consumo = pd.read_excel(archivo, sheet_name=\"CONSUMO\", skiprows=6, nrows=301 ) \n",
    "#Aca arriba lo que hicimos fue leer los archivos de excel y saltar las primeras 6 filas que son encabezados y no nos interesan.\n",
    "#Tambien especificamos el numero de filas que queremos leer, en este caso 289 para importacion y 301 para consumo.\n",
    "\n",
    "# Renombrar columnas para facilitar\n",
    "cols_import = df_importacion.columns.tolist()\n",
    "cols_consumo = df_consumo.columns.tolist()\n",
    "\n",
    "print(\"Columnas Importación:\")\n",
    "print(cols_import)\n",
    "\n",
    "print(\"\\nColumnas Consumo:\")\n",
    "print(cols_consumo)"
   ]
  }
 ],
 "metadata": {
  "kernelspec": {
   "display_name": "Python 3",
   "language": "python",
   "name": "python3"
  },
  "language_info": {
   "codemirror_mode": {
    "name": "ipython",
    "version": 3
   },
   "file_extension": ".py",
   "mimetype": "text/x-python",
   "name": "python",
   "nbconvert_exporter": "python",
   "pygments_lexer": "ipython3",
   "version": "3.13.0"
  }
 },
 "nbformat": 4,
 "nbformat_minor": 5
}
